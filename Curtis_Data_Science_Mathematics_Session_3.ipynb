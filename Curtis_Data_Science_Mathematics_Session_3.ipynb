{
 "cells": [
  {
   "cell_type": "markdown",
   "metadata": {},
   "source": [
    "# Data Science Mathematics\n",
    "# Simple Linear Regression\n",
    "# In-Class Activity"
   ]
  },
  {
   "cell_type": "markdown",
   "metadata": {},
   "source": [
    "Refer to your class handout for background information."
   ]
  },
  {
   "cell_type": "code",
   "execution_count": 2,
   "metadata": {},
   "outputs": [],
   "source": [
    "import numpy as np\n",
    "from scipy import stats"
   ]
  },
  {
   "cell_type": "markdown",
   "metadata": {},
   "source": [
    "Let's instantiate the data set."
   ]
  },
  {
   "cell_type": "code",
   "execution_count": 3,
   "metadata": {},
   "outputs": [],
   "source": [
    "submarine_sightings = np.array([1,2,3,4,5,6,7,8,9,10])\n",
    "cyber_activity_metric = np.array([0.021025,0.022103,0.023237,0.024428,0.025681,0.026997,0.028381,0.029836,0.031366,0.032974])"
   ]
  },
  {
   "cell_type": "markdown",
   "metadata": {},
   "source": [
    "Now, let's calculate our regression values."
   ]
  },
  {
   "cell_type": "code",
   "execution_count": 4,
   "metadata": {},
   "outputs": [],
   "source": [
    "slope, intercept, r_value, p_value, std_err = stats.linregress(submarine_sightings,cyber_activity_metric)"
   ]
  },
  {
   "cell_type": "code",
   "execution_count": 5,
   "metadata": {},
   "outputs": [
    {
     "data": {
      "text/plain": [
       "(0.001324557575757576,\n",
       " 0.019317733333333337,\n",
       " 0.9980126947882119,\n",
       " 6.807697897873586e-11,\n",
       " 2.9567948236252566e-05)"
      ]
     },
     "execution_count": 5,
     "metadata": {},
     "output_type": "execute_result"
    }
   ],
   "source": [
    "slope, intercept, r_value, p_value, std_err"
   ]
  },
  {
   "cell_type": "markdown",
   "metadata": {},
   "source": [
    "Next, print the R^2 value.  How good is your fit?"
   ]
  },
  {
   "cell_type": "code",
   "execution_count": 6,
   "metadata": {},
   "outputs": [
    {
     "name": "stdout",
     "output_type": "stream",
     "text": [
      "r-squared: 0.9960293389584285\n"
     ]
    }
   ],
   "source": [
    "print('r-squared:', r_value**2)"
   ]
  },
  {
   "cell_type": "markdown",
   "metadata": {},
   "source": [
    "### Question 1: "
   ]
  },
  {
   "cell_type": "code",
   "execution_count": 15,
   "metadata": {},
   "outputs": [
    {
     "name": "stdout",
     "output_type": "stream",
     "text": [
      "0.012141777777777779 [[9.16666667e+00 1.21417778e-02]\n",
      " [1.21417778e-02 1.61465964e-05]]\n",
      "Correlation coefficient is 0.9980126947882119\n"
     ]
    }
   ],
   "source": [
    "#Question 1 a. get sample correlation coefficient\n",
    "# 𝛽 ̂=(∑2_(𝑖=1)^𝑛▒(𝑥_𝑖−𝑥 ̅ )(𝑦_𝑖−𝑦 ̅ ) )/(∑2_(𝑖=1)^𝑛▒(𝑥_𝑖−𝑥 ̅ )^2 )=(𝑐𝑜𝑣(𝑥,𝑦))/(𝑣𝑎𝑟(𝑥))=𝑟_𝑥𝑦  𝑠_𝑦/𝑠_𝑥 \n",
    "# get function for covariance\n",
    "def get_covariance(x, y, x_bar, y_bar):\n",
    "    sigma_xy = 0\n",
    "    for i in range(len(x)): \n",
    "        sigma_xy += ((x[i] - x_bar)*(y[i] - y_bar))\n",
    "    cov = sigma_xy/(len(x)-1)\n",
    "    return cov\n",
    "# get variance, just for fun\n",
    "def get_variance(x, x_bar):\n",
    "    sigma_x = 0\n",
    "    for i in range(len(x)): \n",
    "        sigma_x += ((x[i] - x_bar)**2)\n",
    "    cov = sigma_x/(len(x)-1)\n",
    "    return cov\n",
    "# get means, standard deviation, and variance\n",
    "sub_bar = np.mean(submarine_sightings)\n",
    "cyber_bar = np.mean(cyber_activity_metric)\n",
    "sub_std = np.std(submarine_sightings, ddof=1)\n",
    "cyber_std = np.std(cyber_activity_metric, ddof=1)\n",
    "# verify variance function is accurate\n",
    "var1 = np.var(submarine_sightings, ddof=1)\n",
    "sub_var = get_variance(submarine_sightings, sub_bar)\n",
    "#now get covariance\n",
    "cov = get_covariance(submarine_sightings, cyber_activity_metric, sub_bar, cyber_bar)\n",
    "#and check\n",
    "print(cov, np.cov(submarine_sightings, cyber_activity_metric))\n",
    "# get coefficient\n",
    "corr_coeff = (cov/sub_var)*(sub_std/cyber_std)\n",
    "#and check\n",
    "corr_coeff1 = np.corrcoef(submarine_sightings, cyber_activity_metric)\n",
    "print(\"Correlation coefficient is\", corr_coeff)"
   ]
  },
  {
   "cell_type": "code",
   "execution_count": 17,
   "metadata": {},
   "outputs": [
    {
     "name": "stdout",
     "output_type": "stream",
     "text": [
      "Beta is 0.0013245575757575762\n",
      "Alpha is 0.019317733333333333\n"
     ]
    }
   ],
   "source": [
    "# Question 1 b. find Alpha and Beta\n",
    "beta = corr_coeff*(cyber_std/sub_std)\n",
    "print(\"Beta is\", beta)\n",
    "# 𝛼 ̂=𝑦 ̅−𝛽 ̂𝑥 ̅\n",
    "alpha = cyber_bar - beta*sub_bar\n",
    "print(\"Alpha is\", alpha)\n"
   ]
  },
  {
   "cell_type": "markdown",
   "metadata": {},
   "source": [
    "Question 1 c. A linear relationship just by looking at the data sets seems to exist, as the cyber data set increases in a relatively proportional way as the number of submarine sightings.\n",
    "\n",
    "Question 1 d. The correlation coefficient is very close to 1, which indicates a highly linear relationship and correlation between these datasets. However, this data is limited to only submarine sightings, instead of total submarines in the region, so the correlation between submarines and cyber activity may not be completely accurate.\n"
   ]
  },
  {
   "cell_type": "code",
   "execution_count": 15,
   "metadata": {},
   "outputs": [
    {
     "name": "stdout",
     "output_type": "stream",
     "text": [
      "Step 1\n",
      "[0.8, 4.0, 16.64]\n",
      "\n",
      "\n",
      "Step 2\n",
      "[0.64, 3.2, 10.65]\n",
      "\n",
      "\n",
      "Step 3\n",
      "[0.51, 2.56, 6.81]\n",
      "\n",
      "\n",
      "Step 4\n",
      "[0.41, 2.05, 4.37]\n",
      "\n",
      "\n",
      "Step 5\n",
      "[0.33, 1.64, 2.8]\n",
      "\n",
      "\n"
     ]
    }
   ],
   "source": [
    "# Question 2: \n",
    "# f(m,b)=m^2+b^2 & ∇f(m,b)=[2m,2b]\n",
    "# 𝑎_(𝑛+1)=𝑎_𝑛−𝛾𝛻𝐹(𝑎_𝑛 ), \n",
    "# 2 a. 𝛾 a.k.a \"step\" is 0.1, a_n is (1,5) \n",
    "def gradient_descent(step, pos): # making a function to call this more quickly\n",
    "    i = 0\n",
    "    for i in range(5):\n",
    "        pos[0] = round((pos[0] - (step * 2 * pos[0])),2) # this is finding a_(n+1) of m\n",
    "        pos[1] = round((pos[1] - (step * 2 * pos[1])),2) # this is finding a_(n+1) of b\n",
    "        pos[2] = round((pos[0]**2 + pos[1]**2),2) # this is finding a_(n+1)\n",
    "        print(\"Step {}\".format(i+1))\n",
    "        print (pos)\n",
    "        print (\"\\n\")\n",
    "    return\n",
    "step = 0.1\n",
    "pos = [1,5,\"f(m,b)\"] #f(m,b) = m**2 + b**2)\n",
    "gradient_descent(step, pos)\n"
   ]
  },
  {
   "cell_type": "markdown",
   "metadata": {},
   "source": [
    "Model does begin to converge, with gradient getting smaller with each iteration."
   ]
  },
  {
   "cell_type": "code",
   "execution_count": 16,
   "metadata": {},
   "outputs": [
    {
     "name": "stdout",
     "output_type": "stream",
     "text": [
      "Step 1\n",
      "[0.0, 0.0, 0.0]\n",
      "\n",
      "\n",
      "Step 2\n",
      "[0.0, 0.0, 0.0]\n",
      "\n",
      "\n",
      "Step 3\n",
      "[0.0, 0.0, 0.0]\n",
      "\n",
      "\n",
      "Step 4\n",
      "[0.0, 0.0, 0.0]\n",
      "\n",
      "\n",
      "Step 5\n",
      "[0.0, 0.0, 0.0]\n",
      "\n",
      "\n"
     ]
    }
   ],
   "source": [
    "#Question 2 b.\n",
    "step = 0.5\n",
    "pos = [1,5,\"f(m,b)\"] # have to reset this value\n",
    "gradient_descent(step, pos)"
   ]
  },
  {
   "cell_type": "markdown",
   "metadata": {},
   "source": [
    "Model immediately converged within the first step.\n",
    "\n",
    "Question 2 c. The learning rate definitely impacted the convergence of the model. The first smaller rate showed a gradual descent towards an endpoint, while the second step was significant enough that the quality of the descent wasn't described at all (it just went to the correlation at 0). Considering this particular function, that commonality makes sense, though with a less convergent function that sort of change may change the overall conclusion of gradient observations."
   ]
  }
 ],
 "metadata": {
  "kernelspec": {
   "display_name": "Python 3",
   "language": "python",
   "name": "python3"
  },
  "language_info": {
   "codemirror_mode": {
    "name": "ipython",
    "version": 3
   },
   "file_extension": ".py",
   "mimetype": "text/x-python",
   "name": "python",
   "nbconvert_exporter": "python",
   "pygments_lexer": "ipython3",
   "version": "3.7.6"
  }
 },
 "nbformat": 4,
 "nbformat_minor": 4
}
