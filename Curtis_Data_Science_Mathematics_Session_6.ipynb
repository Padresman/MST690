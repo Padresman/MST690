{
 "cells": [
  {
   "cell_type": "markdown",
   "metadata": {},
   "source": [
    "# Data Science Mathematics\n",
    "# Principal Component Analysis\n",
    "# In-Class Activity"
   ]
  },
  {
   "attachments": {},
   "cell_type": "markdown",
   "metadata": {},
   "source": [
    "# Question 1: \tShow that the following is true (remember that variance is the square of the standard deviation): cov(x,x)=var(x)\n",
    "\n",
    "𝑐𝑜𝑣(𝑋,𝑌)=  (∑_(𝑖=0)^𝑛 (𝑋_𝑖−𝑋 ̅ )(𝑌_𝑖−𝑌 ̅ ) )/(𝑛−1)\n",
    "\n",
    "cov (X, X) = (∑_(𝑖=0)^𝑛 (𝑋_𝑖−𝑋 ̅ )(X_𝑖−X ̅ ) )/(𝑛−1) = ...(𝑋_𝑖−𝑋 ̅ )**2...\n",
    "\n",
    "This is equal to the equation for variance (S**2)\n"
   ]
  },
  {
   "cell_type": "markdown",
   "metadata": {},
   "source": [
    "# Question 2: Explain the benefits of dimensionality reduction on large data sets.  In what ways might dimensionality reduction be detrimental?  Recall from our Clustering lecture the “Curse of Dimensionality.”  How might the utility of dimensionality reduction be explained in this context?\n",
    "\n",
    "As the number of analyzed features increases, the proportion of required data to make the analysis valuable and relevant increases exponentially. Our study of the \"Curse of Dimensionality\" focused upon how each additional feature pushed the dimensions to cover additional area, volume, or area appropriate for the dimension described, and these were quite in depth. Especially with a small dataset, it is best to try and determine a small number of features at the outset in order to make our analysis meaningful."
   ]
  },
  {
   "cell_type": "markdown",
   "metadata": {},
   "source": []
  },
  {
   "cell_type": "code",
   "execution_count": 40,
   "metadata": {},
   "outputs": [
    {
     "name": "stdout",
     "output_type": "stream",
     "text": [
      "Determinant is (3 - lambda)[(6 - lambda)*(-5 - lambda) - (2)*(-15)]\n",
      "Determinant is (0)[(-4)*(-5 - lambda) - (2)*(16)]\n",
      "Determinant is (0)[(-4)*(-15) - (6)*(16)]\n",
      "Found a12 and a13 are zero so just focus on only nonzero determinant, first one a11.\n",
      "\n",
      "\n",
      "Now solve (3 - lambda)[(6 - lambda)*(-5 - lambda) - (2)*(-15)], using x as lambda\n",
      "(3-x)[x**2 - x - 30 - (-30)]\n",
      "(3-x)[x**2 - x]\n",
      "x**3 + 2x**2 - 3x\n",
      "x(x**2 + 2x -3) is determinant\n",
      "\n",
      "Now set equal to 0 and solve for eigenvalues:\n",
      "\n",
      "x(x**2 + 2x -3) = 0\n",
      "\n",
      "(x+3)(x-1)x = 0\n",
      "\n",
      "x = 𝜆 = 0, 1, 3 for eigenvalues\n",
      "\n",
      "eigenvectors (𝑨−𝜆𝑰)𝒗=𝟎 = now calculate new matrix values with a*[x, y, z] = [0, 0, 0]\n",
      "\n",
      "x = 0, a remains the same\n",
      "[[3,0,0],\n",
      "[-4,6,2],\n",
      "[16,-15,-5]] *[x, y, z] = 0\n",
      "    \n",
      "[3x+ 0 + 0,-4x+6y+2z, 16x-15y-5z] = 0\n",
      "3x = 0, x = 0, plugging into other ones\n",
      "6y+2z = 0\n",
      "-15y-5z = 0\n",
      "subtract from eatch other\n",
      "21y + 7z = 0\n",
      "each eigenvector will have many solutions along the vector line, proportion is what matters, \n",
      "so setting y arbitrarily to equal \"1\"\n",
      "21 + 7z = 0\n",
      "z = -3\n",
      "eigenvector for value = 0 is then [0,1,-3]\n",
      "\n",
      "eigenvalue 1, a changes\n",
      "[[3-1,0,0],\n",
      "[-4,6-1,2],\n",
      "[16,-15,-5-1]] *[x, y, z] = 0\n",
      "\n",
      "[2x + 0 + 0, -4x + 5y + 2z, 16x-15y-6z] = 0\n",
      "x = 0 again, simplified\n",
      "5y+2z =-15y-6z =0\n",
      "20y+8z = 0\n",
      "set y = 2\n",
      "8z = -40\n",
      "z= -5\n",
      "eigenvector for value 1 is then [0,2,-5]\n",
      "\n",
      "eigenvalue 3, a changes\n",
      "[[3-3,0,0],\n",
      "[-4,6-3,2],\n",
      "[16,-15,-5-3]] *[x, y, z] = 0\n",
      "\n",
      "[0 + 0 + 0, -4x + 3y + 2z, 16x-15y-8z] = 0\n",
      "this time set x equal to 1\n",
      "-4 + 3y + 2z = 16 -15y -8z = 0\n",
      "-20 + 18y +10z = 0\n",
      "-10 + 9y + 10z = 0\n",
      "set y = 10\n",
      "10z = -80\n",
      "z = -8\n",
      "eigenvector for value 3 is then [1, 10, -8]\n",
      "\n",
      "[8.8817842e-16 1.0000000e+00 3.0000000e+00] [[ 0.00000000e+00  0.00000000e+00  4.47213595e-01]\n",
      " [ 3.16227766e-01 -3.71390676e-01  1.98602732e-16]\n",
      " [-9.48683298e-01  9.28476691e-01  8.94427191e-01]]\n"
     ]
    }
   ],
   "source": [
    "# Question 3: Calculate (by hand) the eigenvalues and the associated eigenvectors of matrix A:\n",
    "\n",
    "import numpy as np\n",
    "from sklearn.decomposition import PCA\n",
    "\n",
    "a = [[3,0,0],\n",
    "    [-4,6,2],\n",
    "    [16,-15,-5]]\n",
    "\n",
    "# Determinant = 𝑎_11 |([𝑎_22,𝑎_23],[𝑎_32,𝑎_33])|−𝑎_12 |([𝑎_21,𝑎_23],[𝑎_31,𝑎_33])\n",
    "#|+𝑎_13 |(𝑎_21,𝑎_22,𝑎_31,𝑎_32)|\n",
    "\n",
    "# make a function to calculate the determinant for 2x2s = 𝑎𝑑−𝑏𝑐\n",
    "def get_determinant(x):\n",
    "    return print(\"Determinant is ({})[({})*({}) - ({})*({})]\".format(x[4],x[0],x[3],x[1],x[2]))\n",
    "\n",
    "# |𝑨−𝜆𝑰| = 0, I is 3x3 identity matrix, [[1,0,0],[0,1,0],[0,0,1]], becomes lambda instead of one\n",
    "new_a11 = (\"{} - lambda\".format(a[0][0]))\n",
    "new_a22 = (\"{} - lambda\".format(a[1][1]))\n",
    "new_a33 = (\"{} - lambda\".format(a[2][2]))\n",
    "get_determinant([new_a22,a[1][2],a[2][1],new_a33, new_a11])\n",
    "get_determinant([a[1][0],a[1][2],a[2][0],new_a33, a[0][1]])\n",
    "get_determinant([a[1][0],a[1][1],a[2][0],a[2][1], a[0][2]])\n",
    "\n",
    "print('''Found a12 and a13 are zero so just focus on only nonzero determinant, first one a11.\n",
    "\n",
    "\n",
    "Now solve (3 - lambda)[(6 - lambda)*(-5 - lambda) - (2)*(-15)], using x as lambda\n",
    "(3-x)[x**2 - x - 30 - (-30)]\n",
    "(3-x)[x**2 - x]\n",
    "x**3 + 2x**2 - 3x\n",
    "x(x**2 + 2x -3) is determinant\n",
    "\n",
    "Now set equal to 0 and solve for eigenvalues:\n",
    "\n",
    "x(x**2 + 2x -3) = 0\n",
    "\n",
    "(x+3)(x-1)x = 0\n",
    "\n",
    "x = 𝜆 = 0, 1, 3 for eigenvalues\n",
    "\n",
    "eigenvectors (𝑨−𝜆𝑰)𝒗=𝟎 = now calculate new matrix values with a*[x, y, z] = [0, 0, 0]\n",
    "\n",
    "x = 0, a remains the same\n",
    "[[3,0,0],\n",
    "[-4,6,2],\n",
    "[16,-15,-5]] *[x, y, z] = 0\n",
    "    \n",
    "[3x+ 0 + 0,-4x+6y+2z, 16x-15y-5z] = 0\n",
    "3x = 0, x = 0, plugging into other ones\n",
    "6y+2z = 0\n",
    "-15y-5z = 0\n",
    "subtract from eatch other\n",
    "21y + 7z = 0\n",
    "each eigenvector will have many solutions along the vector line, proportion is what matters, \n",
    "so setting y arbitrarily to equal \"1\"\n",
    "21 + 7z = 0\n",
    "z = -3\n",
    "eigenvector for value = 0 is then [0,1,-3]\n",
    "\n",
    "eigenvalue 1, a changes\n",
    "[[3-1,0,0],\n",
    "[-4,6-1,2],\n",
    "[16,-15,-5-1]] *[x, y, z] = 0\n",
    "\n",
    "[2x + 0 + 0, -4x + 5y + 2z, 16x-15y-6z] = 0\n",
    "x = 0 again, simplified\n",
    "5y+2z =-15y-6z =0\n",
    "20y+8z = 0\n",
    "set y = 2\n",
    "8z = -40\n",
    "z= -5\n",
    "eigenvector for value 1 is then [0,2,-5]\n",
    "\n",
    "eigenvalue 3, a changes\n",
    "[[3-3,0,0],\n",
    "[-4,6-3,2],\n",
    "[16,-15,-5-3]] *[x, y, z] = 0\n",
    "\n",
    "[0 + 0 + 0, -4x + 3y + 2z, 16x-15y-8z] = 0\n",
    "this time set x equal to 1\n",
    "-4 + 3y + 2z = 16 -15y -8z = 0\n",
    "-20 + 18y +10z = 0\n",
    "-10 + 9y + 10z = 0\n",
    "set y = 10\n",
    "10z = -80\n",
    "z = -8\n",
    "eigenvector for value 3 is then [1, 10, -8]\n",
    "''')\n",
    "\n",
    "# now check answers\n",
    "w,v = np.linalg.eig(a)\n",
    "\n",
    "print(w, v)\n",
    "\n",
    "# eigenvalues match well, and \n"
   ]
  },
  {
   "cell_type": "code",
   "execution_count": 47,
   "metadata": {},
   "outputs": [
    {
     "name": "stdout",
     "output_type": "stream",
     "text": [
      "Determinant is 0\n"
     ]
    },
    {
     "data": {
      "text/plain": [
       "-1.8735013540549477e-15"
      ]
     },
     "execution_count": 47,
     "metadata": {},
     "output_type": "execute_result"
    }
   ],
   "source": [
    "# Question 4, compute determinant of matrix A\n",
    "\n",
    "# change function from previous one to take actual number input/output for 2x2 matrix\n",
    "\n",
    "def get_determinant(x):\n",
    "    return x[0]*x[3] - x[1]*x[2]\n",
    "\n",
    "# now plug in all the numbers\n",
    "det_a = a[0][0]*get_determinant([a[1][1],a[1][2],a[2][1],a[2][2]]) \\\n",
    "        - a[0][1]*get_determinant([a[1][0],a[1][2],a[2][0],a[2][2]]) \\\n",
    "        + a[0][2]*get_determinant([a[1][0],a[1][1],a[2][0],a[2][1]])\n",
    "print(\"Determinant is {}\".format(det_a))\n",
    "\n",
    "#double check\n",
    "np.linalg.det(a)"
   ]
  },
  {
   "cell_type": "markdown",
   "metadata": {},
   "source": [
    "Refer to your in-class handout for instructions.  You are going to do most of the coding yourself here.\n",
    "\n",
    "Read about this library here:\n",
    "https://scikit-learn.org/stable/modules/generated/sklearn.decomposition.PCA.html\n",
    "\n",
    "First, let's import our relevant libraries."
   ]
  },
  {
   "cell_type": "markdown",
   "metadata": {
    "collapsed": true
   },
   "source": [
    "# Question 5\n"
   ]
  },
  {
   "cell_type": "markdown",
   "metadata": {},
   "source": [
    "First, we need to instantiate our data set."
   ]
  },
  {
   "cell_type": "code",
   "execution_count": 48,
   "metadata": {},
   "outputs": [],
   "source": [
    "data = np.array([[5.1,3.5,1.4,0.2],\n",
    "[4.9,3.0,1.4,0.2],\n",
    "[4.7,3.2,1.3,0.2],\n",
    "[4.6,3.1,1.5,0.2],\n",
    "[5.0,3.6,1.4,0.2],\n",
    "[5.4,3.9,1.7,0.4],\n",
    "[4.6,3.4,1.4,0.3],\n",
    "[5.0,3.4,1.5,0.2],\n",
    "[4.4,2.9,1.4,0.2],\n",
    "[4.9,3.1,1.5,0.1],\n",
    "[5.4,3.7,1.5,0.2],\n",
    "[4.8,3.4,1.6,0.2],\n",
    "[4.8,3.0,1.4,0.1],\n",
    "[4.3,3.0,1.1,0.1],\n",
    "[5.8,4.0,1.2,0.2],\n",
    "[5.7,4.4,1.5,0.4],\n",
    "[5.4,3.9,1.3,0.4],\n",
    "[5.1,3.5,1.4,0.3],\n",
    "[5.7,3.8,1.7,0.3],\n",
    "[5.1,3.8,1.5,0.3]])"
   ]
  },
  {
   "cell_type": "markdown",
   "metadata": {},
   "source": [
    "Now, in the cell below, calculate your covariance matrix for the above data set:\n",
    "> c = np.cov(x)"
   ]
  },
  {
   "cell_type": "code",
   "execution_count": 49,
   "metadata": {},
   "outputs": [],
   "source": [
    "c = np.cov(data)"
   ]
  },
  {
   "cell_type": "markdown",
   "metadata": {},
   "source": [
    "Print the covariance matrix."
   ]
  },
  {
   "cell_type": "code",
   "execution_count": 50,
   "metadata": {},
   "outputs": [
    {
     "name": "stdout",
     "output_type": "stream",
     "text": [
      "[[4.75       4.42166667 4.35333333 4.16       4.69666667 4.86\n",
      "  4.215      4.595      3.965      4.49333333 5.03       4.38666667\n",
      "  4.415      4.105      5.58       5.35       5.01333333 4.67166667\n",
      "  5.16166667 4.72833333]\n",
      " [4.42166667 4.14916667 4.055      3.885      4.35833333 4.515\n",
      "  3.9075     4.28416667 3.7075     4.21       4.68333333 4.08333333\n",
      "  4.1375     3.81416667 5.18       4.93666667 4.645      4.34916667\n",
      "  4.81916667 4.37916667]\n",
      " [4.35333333 4.055      3.99       3.81333333 4.30333333 4.45333333\n",
      "  3.86166667 4.21166667 3.635      4.12       4.61       4.02\n",
      "  4.04833333 3.76166667 5.11333333 4.9        4.59333333 4.28166667\n",
      "  4.73166667 4.33166667]\n",
      " [4.16       3.885      3.81333333 3.65666667 4.11       4.25666667\n",
      "  3.68833333 4.03166667 3.485      3.95333333 4.40666667 3.85333333\n",
      "  3.88166667 3.59166667 4.86666667 4.66333333 4.37       4.08833333\n",
      "  4.52833333 4.135     ]\n",
      " [4.69666667 4.35833333 4.30333333 4.11       4.65       4.81\n",
      "  4.175      4.54166667 3.915      4.43333333 4.97333333 4.34\n",
      "  4.355      4.06166667 5.52       5.30666667 4.96333333 4.61833333\n",
      "  5.09833333 4.685     ]\n",
      " [4.86       4.515      4.45333333 4.25666667 4.81       4.97666667\n",
      "  4.31833333 4.70166667 4.055      4.59333333 5.14666667 4.49333333\n",
      "  4.51166667 4.20166667 5.70666667 5.48333333 5.13       4.77833333\n",
      "  5.27833333 4.845     ]\n",
      " [4.215      3.9075     3.86166667 3.68833333 4.175      4.31833333\n",
      "  3.74916667 4.07583333 3.5125     3.97666667 4.46333333 3.89666667\n",
      "  3.90583333 3.64583333 4.95333333 4.76666667 4.455      4.14416667\n",
      "  4.57416667 4.2075    ]\n",
      " [4.595      4.28416667 4.21166667 4.03166667 4.54166667 4.70166667\n",
      "  4.07583333 4.44916667 3.8425     4.35666667 4.86666667 4.25\n",
      "  4.27916667 3.96916667 5.38666667 5.16333333 4.83833333 4.5175\n",
      "  4.9975     4.57083333]\n",
      " [3.965      3.7075     3.635      3.485      3.915      4.055\n",
      "  3.5125     3.8425     3.3225     3.77       4.2        3.67\n",
      "  3.7025     3.4225     4.64       4.44       4.165      3.8975\n",
      "  4.3175     3.9375    ]\n",
      " [4.49333333 4.21       4.12       3.95333333 4.43333333 4.59333333\n",
      "  3.97666667 4.35666667 3.77       4.28       4.76       4.16\n",
      "  4.20333333 3.87666667 5.25333333 5.02       4.71333333 4.41666667\n",
      "  4.89666667 4.45666667]\n",
      " [5.03       4.68333333 4.61       4.40666667 4.97333333 5.14666667\n",
      "  4.46333333 4.86666667 4.2        4.76       5.32666667 4.64666667\n",
      "  4.67666667 4.34666667 5.90666667 5.66333333 5.30666667 4.94666667\n",
      "  5.46666667 5.00666667]\n",
      " [4.38666667 4.08333333 4.02       3.85333333 4.34       4.49333333\n",
      "  3.89666667 4.25       3.67       4.16       4.64666667 4.06666667\n",
      "  4.08333333 3.79       5.13333333 4.93333333 4.61333333 4.31\n",
      "  4.77       4.37      ]\n",
      " [4.415      4.1375     4.04833333 3.88166667 4.355      4.51166667\n",
      "  3.90583333 4.27916667 3.7025     4.20333333 4.67666667 4.08333333\n",
      "  4.12916667 3.80916667 5.16666667 4.93333333 4.635      4.34083333\n",
      "  4.81083333 4.3775    ]\n",
      " [4.105      3.81416667 3.76166667 3.59166667 4.06166667 4.20166667\n",
      "  3.64583333 3.96916667 3.4225     3.87666667 4.34666667 3.79\n",
      "  3.80916667 3.54916667 4.82666667 4.63333333 4.33833333 4.0375\n",
      "  4.4575     4.09083333]\n",
      " [5.58       5.18       5.11333333 4.86666667 5.52       5.70666667\n",
      "  4.95333333 5.38666667 4.64       5.25333333 5.90666667 5.13333333\n",
      "  5.16666667 4.82666667 6.58666667 6.31333333 5.92       5.49333333\n",
      "  6.05333333 5.56      ]\n",
      " [5.35       4.93666667 4.9        4.66333333 5.30666667 5.48333333\n",
      "  4.76666667 5.16333333 4.44       5.02       5.66333333 4.93333333\n",
      "  4.93333333 4.63333333 6.31333333 6.08666667 5.68333333 5.26333333\n",
      "  5.79333333 5.35333333]\n",
      " [5.01333333 4.645      4.59333333 4.37       4.96333333 5.13\n",
      "  4.455      4.83833333 4.165      4.71333333 5.30666667 4.61333333\n",
      "  4.635      4.33833333 5.92       5.68333333 5.32333333 4.935\n",
      "  5.435      5.00166667]\n",
      " [4.67166667 4.34916667 4.28166667 4.08833333 4.61833333 4.77833333\n",
      "  4.14416667 4.5175     3.8975     4.41666667 4.94666667 4.31\n",
      "  4.34083333 4.0375     5.49333333 5.26333333 4.935      4.59583333\n",
      "  5.07583333 4.64916667]\n",
      " [5.16166667 4.81916667 4.73166667 4.52833333 5.09833333 5.27833333\n",
      "  4.57416667 4.9975     4.3175     4.89666667 5.46666667 4.77\n",
      "  4.81083333 4.4575     6.05333333 5.79333333 5.435      5.07583333\n",
      "  5.61583333 5.12916667]\n",
      " [4.72833333 4.37916667 4.33166667 4.135      4.685      4.845\n",
      "  4.2075     4.57083333 3.9375     4.45666667 5.00666667 4.37\n",
      "  4.3775     4.09083333 5.56       5.35333333 5.00166667 4.64916667\n",
      "  5.12916667 4.7225    ]]\n"
     ]
    }
   ],
   "source": [
    "print(c)"
   ]
  },
  {
   "cell_type": "markdown",
   "metadata": {},
   "source": [
    "Now, in the cell below, calculate the eigenvectors and eigenvalues of the covariance matrix."
   ]
  },
  {
   "cell_type": "code",
   "execution_count": 51,
   "metadata": {},
   "outputs": [
    {
     "data": {
      "text/plain": [
       "(array([ 9.16742801e+01+0.00000000e+00j,  2.42605997e-01+0.00000000e+00j,\n",
       "         5.89471898e-02+0.00000000e+00j,  4.17597746e-15+0.00000000e+00j,\n",
       "        -2.50327230e-15+6.30393545e-17j, -2.50327230e-15-6.30393545e-17j,\n",
       "         2.53156039e-15+0.00000000e+00j,  6.92828282e-16+1.40864707e-15j,\n",
       "         6.92828282e-16-1.40864707e-15j, -1.60738565e-15+5.06375947e-17j,\n",
       "        -1.60738565e-15-5.06375947e-17j, -1.07662959e-15+0.00000000e+00j,\n",
       "         1.85420098e-15+0.00000000e+00j, -4.30724811e-16+0.00000000e+00j,\n",
       "        -8.82685118e-17+0.00000000e+00j,  4.59166811e-17+0.00000000e+00j,\n",
       "         1.58029513e-15+0.00000000e+00j,  6.45094111e-16+0.00000000e+00j,\n",
       "         1.08679687e-15+4.14276609e-17j,  1.08679687e-15-4.14276609e-17j]),\n",
       " array([[-2.27624404e-01+0.j        , -4.65387044e-03+0.j        ,\n",
       "          3.84689594e-02+0.j        , -2.19203524e-01+0.j        ,\n",
       "         -6.40905366e-02+0.0201665j , -6.40905366e-02-0.0201665j ,\n",
       "         -1.45857484e-01+0.j        , -3.62629304e-02+0.17193483j,\n",
       "         -3.62629304e-02-0.17193483j, -1.11989085e-01-0.00978793j,\n",
       "         -1.11989085e-01+0.00978793j,  6.10563775e-02+0.j        ,\n",
       "          2.72739539e-02+0.j        ,  1.50524246e-01+0.j        ,\n",
       "          4.58572651e-02+0.j        ,  6.83966359e-02+0.j        ,\n",
       "         -8.48484342e-02+0.j        ,  1.12504320e-01+0.j        ,\n",
       "         -7.63000004e-02+0.00884588j, -7.63000004e-02-0.00884588j],\n",
       "        [-2.11837455e-01+0.j        , -3.38434622e-01+0.j        ,\n",
       "          3.56360854e-01+0.j        , -2.91538396e-01+0.j        ,\n",
       "         -2.11773358e-02-0.02196819j, -2.11773358e-02+0.02196819j,\n",
       "         -9.51065375e-03+0.j        ,  9.82272409e-02-0.1109481j ,\n",
       "          9.82272409e-02+0.1109481j ,  5.27578244e-03+0.00659216j,\n",
       "          5.27578244e-03-0.00659216j, -6.28684455e-02+0.j        ,\n",
       "          7.41116407e-02+0.j        ,  4.89525421e-02+0.j        ,\n",
       "          2.67749191e-02+0.j        ,  1.89102997e-02+0.j        ,\n",
       "         -9.95737794e-03+0.j        ,  1.52011909e-03+0.j        ,\n",
       "         -6.60827564e-02-0.00955086j, -6.60827564e-02+0.00955086j],\n",
       "        [-2.08610694e-01+0.j        , -2.79743935e-02+0.j        ,\n",
       "          7.01593228e-02+0.j        , -1.40046651e-01+0.j        ,\n",
       "         -5.41194566e-02+0.11988313j, -5.41194566e-02-0.11988313j,\n",
       "          3.84611508e-01+0.j        , -2.36581626e-01-0.23087767j,\n",
       "         -2.36581626e-01+0.23087767j,  5.88507716e-02+0.02419686j,\n",
       "          5.88507716e-02-0.02419686j, -3.48378347e-02+0.j        ,\n",
       "          3.24152795e-02+0.j        ,  4.22935909e-01+0.j        ,\n",
       "         -4.51033806e-01+0.j        ,  2.93505158e-01+0.j        ,\n",
       "         -9.87197316e-02+0.j        , -2.61571135e-01+0.j        ,\n",
       "         -2.96335373e-01-0.05896863j, -2.96335373e-01+0.05896863j],\n",
       "        [-1.99364240e-01+0.j        , -2.11246164e-01+0.j        ,\n",
       "         -1.90769451e-01+0.j        ,  3.28565681e-01+0.j        ,\n",
       "         -2.73348663e-01-0.12578184j, -2.73348663e-01+0.12578184j,\n",
       "         -6.69490471e-02+0.j        ,  1.53664480e-01+0.00342685j,\n",
       "          1.53664480e-01-0.00342685j, -2.21570872e-03-0.05750101j,\n",
       "         -2.21570872e-03+0.05750101j,  3.01114535e-01+0.j        ,\n",
       "         -5.00817335e-02+0.j        ,  1.28163554e-01+0.j        ,\n",
       "         -1.06729391e-01+0.j        ,  1.14340561e-01+0.j        ,\n",
       "         -1.34677330e-01+0.j        , -5.50677039e-02+0.j        ,\n",
       "          1.86989816e-01-0.01774499j,  1.86989816e-01+0.01774499j],\n",
       "        [-2.25097761e-01+0.j        ,  1.15704269e-01+0.j        ,\n",
       "         -1.70211900e-01+0.j        , -1.65884951e-01+0.j        ,\n",
       "          8.32159143e-02-0.01391562j,  8.32159143e-02+0.01391562j,\n",
       "         -4.07498680e-01+0.j        , -1.52650332e-01-0.06156341j,\n",
       "         -1.52650332e-01+0.06156341j, -1.91951875e-01-0.06062302j,\n",
       "         -1.91951875e-01+0.06062302j, -1.87227495e-01+0.j        ,\n",
       "         -9.91617039e-02+0.j        ,  1.77045277e-01+0.j        ,\n",
       "         -2.12981351e-01+0.j        , -1.55036619e-01+0.j        ,\n",
       "          1.89393810e-04+0.j        ,  2.45920412e-01+0.j        ,\n",
       "         -1.33843273e-01-0.03002171j, -1.33843273e-01+0.03002171j],\n",
       "        [-2.32924664e-01+0.j        ,  5.14570528e-02+0.j        ,\n",
       "         -1.99119060e-01+0.j        , -2.87231265e-01+0.j        ,\n",
       "         -2.50362086e-01+0.04841846j, -2.50362086e-01-0.04841846j,\n",
       "          4.51722927e-02+0.j        , -9.33201896e-02-0.08180148j,\n",
       "         -9.33201896e-02+0.08180148j,  1.94172775e-01+0.04366968j,\n",
       "          1.94172775e-01-0.04366968j,  1.04000944e-01+0.j        ,\n",
       "         -4.78456113e-01+0.j        , -1.37310267e-01+0.j        ,\n",
       "          2.52728540e-03+0.j        ,  6.11850936e-02+0.j        ,\n",
       "          1.90278774e-02+0.j        ,  1.66007319e-01+0.j        ,\n",
       "         -1.97070275e-01+0.03455485j, -1.97070275e-01-0.03455485j],\n",
       "        [-2.02024028e-01+0.j        ,  1.30670880e-01+0.j        ,\n",
       "         -2.42166166e-01+0.j        ,  1.99911735e-01+0.j        ,\n",
       "          1.31030798e-01-0.08654039j,  1.31030798e-01+0.08654039j,\n",
       "          7.62115810e-02+0.j        ,  1.45409709e-01+0.20812277j,\n",
       "          1.45409709e-01-0.20812277j, -3.21613040e-01+0.04987353j,\n",
       "         -3.21613040e-01-0.04987353j, -9.79219107e-02+0.j        ,\n",
       "          1.74202645e-03+0.j        ,  3.00137699e-01+0.j        ,\n",
       "         -2.49803664e-01+0.j        , -6.73455001e-02+0.j        ,\n",
       "         -6.21284310e-02+0.j        , -2.89722601e-02+0.j        ,\n",
       "          2.79688097e-01+0.11732888j,  2.79688097e-01-0.11732888j],\n",
       "        [-2.20204475e-01+0.j        , -1.18181690e-01+0.j        ,\n",
       "         -9.12996265e-02+0.j        ,  6.74208925e-02+0.j        ,\n",
       "          4.36369013e-01+0.13989883j,  4.36369013e-01-0.13989883j,\n",
       "         -2.46848009e-01+0.j        , -1.31329779e-01-0.33923082j,\n",
       "         -1.31329779e-01+0.33923082j,  4.90169963e-02-0.05041516j,\n",
       "          4.90169963e-02+0.05041516j,  2.19801425e-01+0.j        ,\n",
       "          5.41653963e-01+0.j        , -3.49712220e-01+0.j        ,\n",
       "         -1.94229444e-01+0.j        ,  3.05079225e-01+0.j        ,\n",
       "          3.08843805e-01+0.j        ,  4.41461868e-02+0.j        ,\n",
       "         -3.07048207e-01+0.01110398j, -3.07048207e-01-0.01110398j],\n",
       "        [-1.90003957e-01+0.j        , -2.29069952e-01+0.j        ,\n",
       "         -5.68260599e-02+0.j        ,  1.60203865e-01+0.j        ,\n",
       "          1.19938805e-01-0.0471927j ,  1.19938805e-01+0.0471927j ,\n",
       "         -7.57596554e-03+0.j        ,  7.33531714e-02+0.26522374j,\n",
       "          7.33531714e-02-0.26522374j,  3.87541701e-01+0.06201733j,\n",
       "          3.87541701e-01-0.06201733j, -5.09488642e-02+0.j        ,\n",
       "          9.21973176e-02+0.j        ,  2.64719084e-01+0.j        ,\n",
       "         -8.37832372e-02+0.j        , -1.33175852e-01+0.j        ,\n",
       "          1.29952874e-01+0.j        ,  5.04828984e-01+0.j        ,\n",
       "          9.99838103e-02+0.00654205j,  9.99838103e-02-0.00654205j],\n",
       "        [-2.15311189e-01+0.j        , -3.52067649e-01+0.j        ,\n",
       "         -1.23873530e-02+0.j        , -2.20144677e-01+0.j        ,\n",
       "          2.07652310e-01+0.03771575j,  2.07652310e-01-0.03771575j,\n",
       "          1.25693448e-01+0.j        , -6.43783020e-02-0.04825412j,\n",
       "         -6.43783020e-02+0.04825412j, -1.52291435e-01+0.04718073j,\n",
       "         -1.52291435e-01-0.04718073j,  3.50909351e-01+0.j        ,\n",
       "         -2.85852890e-01+0.j        , -3.94159285e-01+0.j        ,\n",
       "         -1.31799890e-01+0.j        , -3.65123187e-01+0.j        ,\n",
       "         -3.70019869e-01+0.j        , -1.76021862e-01+0.j        ,\n",
       "          1.45879613e-01-0.00395775j,  1.45879613e-01+0.00395775j],\n",
       "        [-2.41044711e-01+0.j        , -2.51172168e-02+0.j        ,\n",
       "          8.17019756e-03+0.j        ,  1.55995256e-01+0.j        ,\n",
       "         -2.77815186e-01-0.02326002j, -2.77815186e-01+0.02326002j,\n",
       "         -2.65206366e-01+0.j        , -4.77459234e-02+0.05805417j,\n",
       "         -4.77459234e-02-0.05805417j, -2.16753072e-01+0.11267353j,\n",
       "         -2.16753072e-01-0.11267353j,  1.62207660e-01+0.j        ,\n",
       "          2.37990949e-01+0.j        ,  1.18613922e-01+0.j        ,\n",
       "         -1.24350271e-02+0.j        , -1.31849580e-01+0.j        ,\n",
       "          4.90371958e-01+0.j        , -3.88806061e-01+0.j        ,\n",
       "          2.90163213e-01+0.01284708j,  2.90163213e-01-0.01284708j],\n",
       "        [-2.10257903e-01+0.j        , -1.11351371e-01+0.j        ,\n",
       "         -4.29749072e-01+0.j        , -2.99813339e-01+0.j        ,\n",
       "         -2.25345087e-01+0.04083485j, -2.25345087e-01-0.04083485j,\n",
       "          2.98460416e-01+0.j        , -1.38814542e-01-0.20302508j,\n",
       "         -1.38814542e-01+0.20302508j,  3.32398132e-01-0.13425528j,\n",
       "          3.32398132e-01+0.13425528j, -3.62235597e-01+0.j        ,\n",
       "          2.59296554e-01+0.j        , -9.57436094e-02+0.j        ,\n",
       "          6.17145717e-02+0.j        , -2.20958736e-01+0.j        ,\n",
       "          2.03370497e-01+0.j        , -1.90325035e-01+0.j        ,\n",
       "         -1.04838390e-01+0.00537073j, -1.04838390e-01-0.00537073j],\n",
       "        [-2.11544311e-01+0.j        , -3.26107568e-01+0.j        ,\n",
       "          1.20164436e-01+0.j        ,  2.04540886e-01+0.j        ,\n",
       "          1.57712719e-01+0.06143684j,  1.57712719e-01-0.06143684j,\n",
       "         -1.22206754e-01+0.j        ,  1.23564107e-01+0.2162204j ,\n",
       "          1.23564107e-01-0.2162204j ,  2.21848396e-01-0.0344262j ,\n",
       "          2.21848396e-01+0.0344262j , -4.49701414e-01+0.j        ,\n",
       "         -1.83556017e-01+0.j        ,  2.10625517e-01+0.j        ,\n",
       "          5.84450218e-01+0.j        ,  8.56761496e-02+0.j        ,\n",
       "         -4.94416783e-02+0.j        , -9.19647826e-02+0.j        ,\n",
       "          2.69076999e-01+0.06559894j,  2.69076999e-01-0.06559894j],\n",
       "        [-1.96723768e-01+0.j        ,  7.45599571e-02+0.j        ,\n",
       "         -4.57814592e-03+0.j        ,  2.13269443e-01+0.j        ,\n",
       "         -3.21066081e-02-0.05861342j, -3.21066081e-02+0.05861342j,\n",
       "          1.82713154e-01+0.j        , -7.52537921e-02+0.10550404j,\n",
       "         -7.52537921e-02-0.10550404j, -3.12022114e-01+0.0655837j ,\n",
       "         -3.12022114e-01-0.0655837j ,  2.13323044e-01+0.j        ,\n",
       "          2.21511349e-01+0.j        , -4.91068622e-02+0.j        ,\n",
       "          3.81984852e-01+0.j        , -4.07629343e-01+0.j        ,\n",
       "          7.26687954e-02+0.j        ,  3.64786040e-01+0.j        ,\n",
       "         -4.09374412e-01+0.j        , -4.09374412e-01-0.j        ],\n",
       "        [-2.67364521e-01+0.j        ,  2.77179108e-01+0.j        ,\n",
       "          5.01120584e-01+0.j        ,  1.93483236e-01+0.j        ,\n",
       "         -1.81235973e-01-0.06156662j, -1.81235973e-01+0.06156662j,\n",
       "         -3.09624387e-01+0.j        ,  6.65841956e-02-0.1076596j ,\n",
       "          6.65841956e-02+0.1076596j ,  2.54592265e-01-0.0379809j ,\n",
       "          2.54592265e-01+0.0379809j , -4.32577307e-02+0.j        ,\n",
       "          1.27733981e-01+0.j        , -1.00318151e-01+0.j        ,\n",
       "         -1.19623819e-01+0.j        , -1.38064463e-01+0.j        ,\n",
       "         -2.72506420e-01+0.j        , -1.77349324e-01+0.j        ,\n",
       "         -2.25947179e-01-0.00645044j, -2.25947179e-01+0.00645044j],\n",
       "        [-2.56424686e-01+0.j        ,  4.86438570e-01+0.j        ,\n",
       "         -1.51045951e-01+0.j        ,  2.64036169e-02+0.j        ,\n",
       "          4.59751922e-01+0.j        ,  4.59751922e-01-0.j        ,\n",
       "          5.78910203e-02+0.j        ,  1.02065757e-01+0.13046871j,\n",
       "          1.02065757e-01-0.13046871j,  1.70911946e-01-0.00826922j,\n",
       "          1.70911946e-01+0.00826922j,  1.15036218e-01+0.j        ,\n",
       "         -2.31712288e-01+0.j        ,  1.07598853e-01+0.j        ,\n",
       "          1.85813478e-01+0.j        , -6.51925987e-02+0.j        ,\n",
       "         -1.11357364e-01+0.j        , -2.97554791e-01+0.j        ,\n",
       "          1.29478659e-01-0.04601984j,  1.29478659e-01+0.04601984j],\n",
       "        [-2.40230764e-01+0.j        ,  3.30432855e-01+0.j        ,\n",
       "          3.25521690e-01+0.j        , -3.73107241e-01+0.j        ,\n",
       "         -5.37220066e-02+0.03520443j, -5.37220066e-02-0.03520443j,\n",
       "          4.34745610e-01+0.j        , -2.42750159e-01-0.03248389j,\n",
       "         -2.42750159e-01+0.03248389j, -5.26807183e-03-0.04135337j,\n",
       "         -5.26807183e-03+0.04135337j,  9.27579745e-02+0.j        ,\n",
       "          4.54420833e-02+0.j        , -1.71016592e-01+0.j        ,\n",
       "          3.07209094e-03+0.j        ,  1.15397073e-01+0.j        ,\n",
       "          4.18044344e-01+0.j        ,  2.60090941e-01+0.j        ,\n",
       "          3.75837815e-01+0.0906957j ,  3.75837815e-01-0.0906957j ],\n",
       "        [-2.23857526e-01+0.j        ,  2.13062106e-02+0.j        ,\n",
       "          1.71020749e-01+0.j        ,  3.44875249e-01+0.j        ,\n",
       "         -1.11859722e-02+0.10209039j, -1.11859722e-02-0.10209039j,\n",
       "          3.27361467e-02+0.j        ,  3.68154000e-01+0.j        ,\n",
       "          3.68154000e-01-0.j        ,  3.02280090e-02-0.04187737j,\n",
       "          3.02280090e-02+0.04187737j, -4.39674921e-01+0.j        ,\n",
       "         -1.72782846e-01+0.j        ,  7.21452734e-02+0.j        ,\n",
       "         -7.18779527e-03+0.j        , -2.17725399e-01+0.j        ,\n",
       "         -1.47720711e-01+0.j        ,  1.16062313e-01+0.j        ,\n",
       "          8.69344202e-02-0.07843901j,  8.69344202e-02+0.07843901j],\n",
       "        [-2.47338233e-01+0.j        , -1.71435437e-01+0.j        ,\n",
       "          8.42992679e-02+0.j        ,  4.99480021e-02+0.j        ,\n",
       "          8.74682346e-02-0.16839547j,  8.74682346e-02+0.16839547j,\n",
       "          2.10434590e-01+0.j        , -1.40530216e-01+0.14436581j,\n",
       "         -1.40530216e-01-0.14436581j, -4.04416201e-01+0.j        ,\n",
       "         -4.04416201e-01-0.j        ,  1.84963382e-01+0.j        ,\n",
       "         -2.10173428e-01+0.j        , -2.49383236e-01+0.j        ,\n",
       "         -1.08986323e-03+0.j        ,  3.93903294e-01+0.j        ,\n",
       "          6.56035058e-02+0.j        , -6.39424838e-02+0.j        ,\n",
       "         -9.14477004e-02-0.04008029j, -9.14477004e-02+0.04008029j],\n",
       "        [-2.26631142e-01+0.j        ,  1.97775273e-01+0.j        ,\n",
       "         -2.75248131e-01+0.j        ,  1.02023526e-01+0.j        ,\n",
       "         -2.38170854e-01+0.00822375j, -2.38170854e-01-0.00822375j,\n",
       "         -1.84998621e-01+0.j        ,  2.54934430e-01-0.05721809j,\n",
       "          2.54934430e-01+0.05721809j,  1.45391106e-02+0.07430341j,\n",
       "          1.45391106e-02-0.07430341j, -1.20137641e-01+0.j        ,\n",
       "          1.22940220e-01+0.j        , -3.21452513e-01+0.j        ,\n",
       "          2.68543714e-01+0.j        ,  3.74705379e-01+0.j        ,\n",
       "         -3.66487484e-01+0.j        ,  7.14899854e-02+0.j        ,\n",
       "          3.71999150e-02-0.04798267j,  3.71999150e-02+0.04798267j]]))"
      ]
     },
     "execution_count": 51,
     "metadata": {},
     "output_type": "execute_result"
    }
   ],
   "source": [
    "np.linalg.eig(c)"
   ]
  },
  {
   "cell_type": "markdown",
   "metadata": {},
   "source": [
    "Now calculate the principal components (reduce to 2 dimensions).  First, you need to instantiate your PCA object."
   ]
  },
  {
   "cell_type": "code",
   "execution_count": 52,
   "metadata": {},
   "outputs": [],
   "source": [
    "pca = PCA(n_components=2)"
   ]
  },
  {
   "cell_type": "markdown",
   "metadata": {},
   "source": [
    "Now, in the cell below, train your model on your dataset:\n",
    "> pca.fit(X)"
   ]
  },
  {
   "cell_type": "code",
   "execution_count": 53,
   "metadata": {},
   "outputs": [
    {
     "data": {
      "text/plain": [
       "PCA(copy=True, iterated_power='auto', n_components=2, random_state=None,\n",
       "    svd_solver='auto', tol=0.0, whiten=False)"
      ]
     },
     "execution_count": 53,
     "metadata": {},
     "output_type": "execute_result"
    }
   ],
   "source": [
    "pca.fit(data)"
   ]
  },
  {
   "cell_type": "markdown",
   "metadata": {},
   "source": [
    "The following commands can be used to get your explained variance ratios (percentage of variance explained by each of the selected components) and your dimensionally-reduced components.\n",
    "\n",
    "Print these values in the cells below."
   ]
  },
  {
   "cell_type": "code",
   "execution_count": 54,
   "metadata": {},
   "outputs": [
    {
     "name": "stdout",
     "output_type": "stream",
     "text": [
      "[0.87954353 0.06300167]\n"
     ]
    }
   ],
   "source": [
    "print(pca.explained_variance_ratio_)"
   ]
  },
  {
   "cell_type": "code",
   "execution_count": 65,
   "metadata": {},
   "outputs": [
    {
     "name": "stdout",
     "output_type": "stream",
     "text": [
      "[[ 0.71816179  0.68211748  0.08126075  0.1111579 ]\n",
      " [ 0.61745716 -0.65996887  0.37215116 -0.21140307]]\n"
     ]
    }
   ],
   "source": [
    "print(pca.components_)"
   ]
  },
  {
   "cell_type": "markdown",
   "metadata": {},
   "source": [
    "Bonus: Figure out how to plot your principal components as a scatter plot:\n",
    "\n",
    "https://matplotlib.org/3.1.1/api/_as_gen/matplotlib.pyplot.scatter.html"
   ]
  },
  {
   "cell_type": "markdown",
   "metadata": {},
   "source": [
    "# d)\tAssuming the class of each record is known, explain how this reduced data set could be used to derive a supervised learning algorithm based on clustering.\n",
    "\n",
    "Because the relationship of the two features seems to have a significant effect on deciphering the dataset, we could use those features as a definition for a training set for supervised learning. By telling an algorithm to search and find things that match those two features, with the initial set of data coming from what we have, we could cluster unknown data into categories of relevance that are continued to be fed into the algorithm. The limitations would be if the correlation, though significant, is not fully disciminatory, as if our initial dataset doesn't pull from a wide range the learning algorithm would be having a skewed perspective of how many accounts demonstrate the features."
   ]
  },
  {
   "cell_type": "code",
   "execution_count": 75,
   "metadata": {},
   "outputs": [
    {
     "ename": "ValueError",
     "evalue": "'c' argument has 2 elements, which is not acceptable for use with 'x' with size 4, 'y' with size 4.",
     "output_type": "error",
     "traceback": [
      "\u001b[1;31m---------------------------------------------------------------------------\u001b[0m",
      "\u001b[1;31mValueError\u001b[0m                                Traceback (most recent call last)",
      "\u001b[1;32m~\\anaconda3\\lib\\site-packages\\matplotlib\\axes\\_axes.py\u001b[0m in \u001b[0;36m_parse_scatter_color_args\u001b[1;34m(c, edgecolors, kwargs, xshape, yshape, get_next_color_func)\u001b[0m\n\u001b[0;32m   4289\u001b[0m                     \u001b[0mvalid_shape\u001b[0m \u001b[1;33m=\u001b[0m \u001b[1;32mFalse\u001b[0m\u001b[1;33m\u001b[0m\u001b[1;33m\u001b[0m\u001b[0m\n\u001b[1;32m-> 4290\u001b[1;33m                     \u001b[1;32mraise\u001b[0m \u001b[0mValueError\u001b[0m\u001b[1;33m\u001b[0m\u001b[1;33m\u001b[0m\u001b[0m\n\u001b[0m\u001b[0;32m   4291\u001b[0m             \u001b[1;32mexcept\u001b[0m \u001b[0mValueError\u001b[0m\u001b[1;33m:\u001b[0m\u001b[1;33m\u001b[0m\u001b[1;33m\u001b[0m\u001b[0m\n",
      "\u001b[1;31mValueError\u001b[0m: ",
      "\nDuring handling of the above exception, another exception occurred:\n",
      "\u001b[1;31mValueError\u001b[0m                                Traceback (most recent call last)",
      "\u001b[1;32m<ipython-input-75-a11945d3c417>\u001b[0m in \u001b[0;36m<module>\u001b[1;34m\u001b[0m\n\u001b[0;32m      1\u001b[0m \u001b[1;32mimport\u001b[0m \u001b[0mmatplotlib\u001b[0m\u001b[1;33m.\u001b[0m\u001b[0mpyplot\u001b[0m \u001b[1;32mas\u001b[0m \u001b[0mplt\u001b[0m\u001b[1;33m\u001b[0m\u001b[1;33m\u001b[0m\u001b[0m\n\u001b[0;32m      2\u001b[0m \u001b[1;33m\u001b[0m\u001b[0m\n\u001b[1;32m----> 3\u001b[1;33m \u001b[0mplt\u001b[0m\u001b[1;33m.\u001b[0m\u001b[0mscatter\u001b[0m\u001b[1;33m(\u001b[0m\u001b[0mpca\u001b[0m\u001b[1;33m.\u001b[0m\u001b[0mcomponents_\u001b[0m\u001b[1;33m[\u001b[0m\u001b[1;36m0\u001b[0m\u001b[1;33m]\u001b[0m\u001b[1;33m,\u001b[0m \u001b[0mpca\u001b[0m\u001b[1;33m.\u001b[0m\u001b[0mcomponents_\u001b[0m\u001b[1;33m[\u001b[0m\u001b[1;36m1\u001b[0m\u001b[1;33m]\u001b[0m\u001b[1;33m,\u001b[0m \u001b[0mc\u001b[0m\u001b[1;33m=\u001b[0m\u001b[1;33m[\u001b[0m\u001b[1;34m'blue'\u001b[0m\u001b[1;33m,\u001b[0m\u001b[1;34m'green'\u001b[0m\u001b[1;33m]\u001b[0m\u001b[1;33m)\u001b[0m\u001b[1;33m\u001b[0m\u001b[1;33m\u001b[0m\u001b[0m\n\u001b[0m",
      "\u001b[1;32m~\\anaconda3\\lib\\site-packages\\matplotlib\\pyplot.py\u001b[0m in \u001b[0;36mscatter\u001b[1;34m(x, y, s, c, marker, cmap, norm, vmin, vmax, alpha, linewidths, verts, edgecolors, plotnonfinite, data, **kwargs)\u001b[0m\n\u001b[0;32m   2846\u001b[0m         \u001b[0mverts\u001b[0m\u001b[1;33m=\u001b[0m\u001b[0mverts\u001b[0m\u001b[1;33m,\u001b[0m \u001b[0medgecolors\u001b[0m\u001b[1;33m=\u001b[0m\u001b[0medgecolors\u001b[0m\u001b[1;33m,\u001b[0m\u001b[1;33m\u001b[0m\u001b[1;33m\u001b[0m\u001b[0m\n\u001b[0;32m   2847\u001b[0m         plotnonfinite=plotnonfinite, **({\"data\": data} if data is not\n\u001b[1;32m-> 2848\u001b[1;33m         None else {}), **kwargs)\n\u001b[0m\u001b[0;32m   2849\u001b[0m     \u001b[0msci\u001b[0m\u001b[1;33m(\u001b[0m\u001b[0m__ret\u001b[0m\u001b[1;33m)\u001b[0m\u001b[1;33m\u001b[0m\u001b[1;33m\u001b[0m\u001b[0m\n\u001b[0;32m   2850\u001b[0m     \u001b[1;32mreturn\u001b[0m \u001b[0m__ret\u001b[0m\u001b[1;33m\u001b[0m\u001b[1;33m\u001b[0m\u001b[0m\n",
      "\u001b[1;32m~\\anaconda3\\lib\\site-packages\\matplotlib\\__init__.py\u001b[0m in \u001b[0;36minner\u001b[1;34m(ax, data, *args, **kwargs)\u001b[0m\n\u001b[0;32m   1597\u001b[0m     \u001b[1;32mdef\u001b[0m \u001b[0minner\u001b[0m\u001b[1;33m(\u001b[0m\u001b[0max\u001b[0m\u001b[1;33m,\u001b[0m \u001b[1;33m*\u001b[0m\u001b[0margs\u001b[0m\u001b[1;33m,\u001b[0m \u001b[0mdata\u001b[0m\u001b[1;33m=\u001b[0m\u001b[1;32mNone\u001b[0m\u001b[1;33m,\u001b[0m \u001b[1;33m**\u001b[0m\u001b[0mkwargs\u001b[0m\u001b[1;33m)\u001b[0m\u001b[1;33m:\u001b[0m\u001b[1;33m\u001b[0m\u001b[1;33m\u001b[0m\u001b[0m\n\u001b[0;32m   1598\u001b[0m         \u001b[1;32mif\u001b[0m \u001b[0mdata\u001b[0m \u001b[1;32mis\u001b[0m \u001b[1;32mNone\u001b[0m\u001b[1;33m:\u001b[0m\u001b[1;33m\u001b[0m\u001b[1;33m\u001b[0m\u001b[0m\n\u001b[1;32m-> 1599\u001b[1;33m             \u001b[1;32mreturn\u001b[0m \u001b[0mfunc\u001b[0m\u001b[1;33m(\u001b[0m\u001b[0max\u001b[0m\u001b[1;33m,\u001b[0m \u001b[1;33m*\u001b[0m\u001b[0mmap\u001b[0m\u001b[1;33m(\u001b[0m\u001b[0msanitize_sequence\u001b[0m\u001b[1;33m,\u001b[0m \u001b[0margs\u001b[0m\u001b[1;33m)\u001b[0m\u001b[1;33m,\u001b[0m \u001b[1;33m**\u001b[0m\u001b[0mkwargs\u001b[0m\u001b[1;33m)\u001b[0m\u001b[1;33m\u001b[0m\u001b[1;33m\u001b[0m\u001b[0m\n\u001b[0m\u001b[0;32m   1600\u001b[0m \u001b[1;33m\u001b[0m\u001b[0m\n\u001b[0;32m   1601\u001b[0m         \u001b[0mbound\u001b[0m \u001b[1;33m=\u001b[0m \u001b[0mnew_sig\u001b[0m\u001b[1;33m.\u001b[0m\u001b[0mbind\u001b[0m\u001b[1;33m(\u001b[0m\u001b[0max\u001b[0m\u001b[1;33m,\u001b[0m \u001b[1;33m*\u001b[0m\u001b[0margs\u001b[0m\u001b[1;33m,\u001b[0m \u001b[1;33m**\u001b[0m\u001b[0mkwargs\u001b[0m\u001b[1;33m)\u001b[0m\u001b[1;33m\u001b[0m\u001b[1;33m\u001b[0m\u001b[0m\n",
      "\u001b[1;32m~\\anaconda3\\lib\\site-packages\\matplotlib\\axes\\_axes.py\u001b[0m in \u001b[0;36mscatter\u001b[1;34m(self, x, y, s, c, marker, cmap, norm, vmin, vmax, alpha, linewidths, verts, edgecolors, plotnonfinite, **kwargs)\u001b[0m\n\u001b[0;32m   4451\u001b[0m             self._parse_scatter_color_args(\n\u001b[0;32m   4452\u001b[0m                 \u001b[0mc\u001b[0m\u001b[1;33m,\u001b[0m \u001b[0medgecolors\u001b[0m\u001b[1;33m,\u001b[0m \u001b[0mkwargs\u001b[0m\u001b[1;33m,\u001b[0m \u001b[0mxshape\u001b[0m\u001b[1;33m,\u001b[0m \u001b[0myshape\u001b[0m\u001b[1;33m,\u001b[0m\u001b[1;33m\u001b[0m\u001b[1;33m\u001b[0m\u001b[0m\n\u001b[1;32m-> 4453\u001b[1;33m                 get_next_color_func=self._get_patches_for_fill.get_next_color)\n\u001b[0m\u001b[0;32m   4454\u001b[0m \u001b[1;33m\u001b[0m\u001b[0m\n\u001b[0;32m   4455\u001b[0m         \u001b[1;32mif\u001b[0m \u001b[0mplotnonfinite\u001b[0m \u001b[1;32mand\u001b[0m \u001b[0mcolors\u001b[0m \u001b[1;32mis\u001b[0m \u001b[1;32mNone\u001b[0m\u001b[1;33m:\u001b[0m\u001b[1;33m\u001b[0m\u001b[1;33m\u001b[0m\u001b[0m\n",
      "\u001b[1;32m~\\anaconda3\\lib\\site-packages\\matplotlib\\axes\\_axes.py\u001b[0m in \u001b[0;36m_parse_scatter_color_args\u001b[1;34m(c, edgecolors, kwargs, xshape, yshape, get_next_color_func)\u001b[0m\n\u001b[0;32m   4295\u001b[0m                         \u001b[1;34m\"acceptable for use with 'x' with size {xs}, \"\u001b[0m\u001b[1;33m\u001b[0m\u001b[1;33m\u001b[0m\u001b[0m\n\u001b[0;32m   4296\u001b[0m                         \u001b[1;34m\"'y' with size {ys}.\"\u001b[0m\u001b[1;33m\u001b[0m\u001b[1;33m\u001b[0m\u001b[0m\n\u001b[1;32m-> 4297\u001b[1;33m                             \u001b[1;33m.\u001b[0m\u001b[0mformat\u001b[0m\u001b[1;33m(\u001b[0m\u001b[0mnc\u001b[0m\u001b[1;33m=\u001b[0m\u001b[0mn_elem\u001b[0m\u001b[1;33m,\u001b[0m \u001b[0mxs\u001b[0m\u001b[1;33m=\u001b[0m\u001b[0mxsize\u001b[0m\u001b[1;33m,\u001b[0m \u001b[0mys\u001b[0m\u001b[1;33m=\u001b[0m\u001b[0mysize\u001b[0m\u001b[1;33m)\u001b[0m\u001b[1;33m\u001b[0m\u001b[1;33m\u001b[0m\u001b[0m\n\u001b[0m\u001b[0;32m   4298\u001b[0m                     )\n\u001b[0;32m   4299\u001b[0m                 \u001b[1;32melse\u001b[0m\u001b[1;33m:\u001b[0m\u001b[1;33m\u001b[0m\u001b[1;33m\u001b[0m\u001b[0m\n",
      "\u001b[1;31mValueError\u001b[0m: 'c' argument has 2 elements, which is not acceptable for use with 'x' with size 4, 'y' with size 4."
     ]
    },
    {
     "data": {
      "image/png": "[encoded data removed]",
      "text/plain": [
       "<Figure size 432x288 with 1 Axes>"
      ]
     },
     "metadata": {
      "needs_background": "light"
     },
     "output_type": "display_data"
    }
   ],
   "source": [
    "import matplotlib.pyplot as plt\n",
    "\n",
    "plt.scatter(pca.components_[0], pca.components_[1], c=['blue','green'])"
   ]
  },
  {
   "cell_type": "markdown",
   "metadata": {},
   "source": [
    "***Now save your output.  Go to File -> Print Preview and save your final output as a PDF.  Turn in to your Instructor, along with any additional sheets."
   ]
  }
 ],
 "metadata": {
  "kernelspec": {
   "display_name": "Python 3",
   "language": "python",
   "name": "python3"
  },
  "language_info": {
   "codemirror_mode": {
    "name": "ipython",
    "version": 3
   },
   "file_extension": ".py",
   "mimetype": "text/x-python",
   "name": "python",
   "nbconvert_exporter": "python",
   "pygments_lexer": "ipython3",
   "version": "3.7.6"
  }
 },
 "nbformat": 4,
 "nbformat_minor": 2
}
