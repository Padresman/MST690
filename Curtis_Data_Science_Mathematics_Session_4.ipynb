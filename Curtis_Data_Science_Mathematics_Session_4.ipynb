{
 "cells": [
  {
   "cell_type": "code",
   "execution_count": 15,
   "metadata": {},
   "outputs": [],
   "source": [
    "import numpy as np\n",
    "import matplotlib.pyplot as plt\n",
    "import random\n",
    "%matplotlib inline"
   ]
  },
  {
   "cell_type": "code",
   "execution_count": 16,
   "metadata": {},
   "outputs": [],
   "source": [
    "#taking our dataset and breaking it into the three variables\n",
    "x1 = [8,15,9,8,8,15,14,5,5,9]\n",
    "y1 = [22,51,44,51,20,64,56,10,18,26]\n",
    "z1 = [62,85,121,136,93,124,101,80,73,79]\n",
    "\n",
    "cent1 = [10,20,80]\n",
    "cent2 = [10,50,110]\n",
    "\n"
   ]
  },
  {
   "cell_type": "code",
   "execution_count": 17,
   "metadata": {},
   "outputs": [],
   "source": [
    "# Calculate the Centroids ~ Slide 21)\n",
    "def centroid(data):\n",
    "    '''\n",
    "    Requires a list of n dimensions where each dimesion is its own list\n",
    "    '''\n",
    "    centroids = []\n",
    "    for dat in data: \n",
    "        centroids.append(round(sum(dat)/len(dat),2))\n",
    "    \n",
    "    return centroids\n",
    "        "
   ]
  },
  {
   "cell_type": "code",
   "execution_count": 18,
   "metadata": {},
   "outputs": [],
   "source": [
    "def calc_distance(centers, points):\n",
    "    \"\"\"Takes list of points and centers\"\"\"\n",
    "    #Make empty list for number of centroids\n",
    "    distances = []\n",
    "    \n",
    "    for i in range(len(centers)):\n",
    "        distances.append([])\n",
    "    \n",
    "    num_dimensions = len(points)\n",
    "        \n",
    "    for cen in range(len(centers)):\n",
    "        for loc in range(len(points[0])):\n",
    "            dist = round(np.sqrt((centers[cen][0]-points[0][loc])**2 + \\\n",
    "                                 (centers[cen][1]-points[1][loc])**2 + (centers[cen][2]-points[2][loc])**2),2)\n",
    "            distances[cen].append(dist)\n",
    "    \n",
    "    return distances\n",
    "            \n",
    "        \n",
    "            \n",
    "    "
   ]
  },
  {
   "cell_type": "code",
   "execution_count": 19,
   "metadata": {},
   "outputs": [
    {
     "data": {
      "text/plain": [
       "[[18.22, 31.8, 47.52, 64.04, 13.15, 62.43, 41.87, 11.18, 8.83, 6.16],\n",
       " [55.61, 25.51, 12.57, 26.1, 34.54, 20.42, 11.53, 50.25, 49.17, 39.22]]"
      ]
     },
     "execution_count": 19,
     "metadata": {},
     "output_type": "execute_result"
    }
   ],
   "source": [
    "distance = calc_distance([cent1,cent2], [x1,y1,z1])\n",
    "distance #one iteration"
   ]
  },
  {
   "cell_type": "code",
   "execution_count": 20,
   "metadata": {},
   "outputs": [],
   "source": [
    "def calc_closer(centers, distances,points): \n",
    "    new_sets = [[[],[],[]] for _ in range(len(centers))]\n",
    "        \n",
    "    #create an intermediate set of centroids: \n",
    "    for i in range(len(distances[0])):\n",
    "        cents_to_points = []\n",
    "        for dist in distances: \n",
    "            cents_to_points.append(dist[i])\n",
    "        val, idx = min((val, idx) for (idx, val) in enumerate(cents_to_points))\n",
    "        new_sets[idx][0].append(points[0][i])\n",
    "        new_sets[idx][1].append(points[1][i])\n",
    "        new_sets[idx][2].append(points[2][i])\n",
    "    return new_sets\n",
    "                   \n",
    "\n",
    "    \n",
    "            "
   ]
  },
  {
   "cell_type": "code",
   "execution_count": 21,
   "metadata": {
    "scrolled": true
   },
   "outputs": [
    {
     "name": "stdout",
     "output_type": "stream",
     "text": [
      "[[[8, 8, 5, 5, 9], [22, 20, 10, 18, 26], [62, 93, 80, 73, 79]], [[15, 9, 8, 15, 14], [51, 44, 51, 64, 56], [85, 121, 136, 124, 101]]]\n"
     ]
    }
   ],
   "source": [
    "new_sets = calc_closer([cent1,cent2], distance, [x1,y1,z1])\n",
    "print(new_sets)"
   ]
  },
  {
   "cell_type": "code",
   "execution_count": 22,
   "metadata": {
    "scrolled": true
   },
   "outputs": [
    {
     "name": "stdout",
     "output_type": "stream",
     "text": [
      "[10, 20, 80] [10, 50, 110]\n",
      "[7.0, 19.2, 77.4] [12.2, 53.2, 113.4]\n",
      "[7.0, 19.2, 77.4] [12.2, 53.2, 113.4]\n",
      "[7.0, 19.2, 77.4] [12.2, 53.2, 113.4]\n",
      "[7.0, 19.2, 77.4] [12.2, 53.2, 113.4]\n"
     ]
    }
   ],
   "source": [
    "for i in range(5):\n",
    "    print (cent1, cent2)\n",
    "    distance = calc_distance([cent1,cent2], [x1, y1, z1])\n",
    "    new_sets = calc_closer([cent1,cent2], distance, [x1, y1, z1])\n",
    "    cent1 = centroid(new_sets[0])\n",
    "    cent2 = centroid(new_sets[1])\n",
    "    "
   ]
  },
  {
   "cell_type": "markdown",
   "metadata": {},
   "source": [
    "The convergence occurred after just one iteration, drawing to the same location. It also occurs after 5 iterations as well."
   ]
  },
  {
   "cell_type": "code",
   "execution_count": 25,
   "metadata": {},
   "outputs": [
    {
     "name": "stdout",
     "output_type": "stream",
     "text": [
      "[[[8, 8, 5, 5, 9], [22, 20, 10, 18, 26], [62, 93, 80, 73, 79]], [[15, 9, 8, 15, 14], [51, 44, 51, 64, 56], [85, 121, 136, 124, 101]]]\n"
     ]
    }
   ],
   "source": [
    "# see where they correlate\n",
    "print(new_sets)\n",
    "\n",
    "# seems that cent1 was military YES, and cent2 was military NO"
   ]
  },
  {
   "cell_type": "code",
   "execution_count": 26,
   "metadata": {},
   "outputs": [],
   "source": [
    "# making new array with the observed correlation\n",
    "new_military_check = np.array([1,0,0,0,1,0,0,1,1,1])"
   ]
  },
  {
   "cell_type": "code",
   "execution_count": 28,
   "metadata": {},
   "outputs": [
    {
     "name": "stdout",
     "output_type": "stream",
     "text": [
      "True pos: 5\n",
      "True neg: 5\n",
      "False pos: 0\n",
      "False neg: 0\n"
     ]
    }
   ],
   "source": [
    "#getting the true/false positive and negative, then counting the Matthews' Correlation\n",
    "normal_result = np.array([1,0,0,0,1,0,0,1,1,1])\n",
    "true_pos = 0\n",
    "true_neg = 0\n",
    "false_pos = 0\n",
    "false_neg = 0\n",
    "\n",
    "for i in range(10):\n",
    "    if normal_result[i] == normal_result[i]:\n",
    "        if normal_result[i] == 1:\n",
    "            true_pos += 1\n",
    "        else:\n",
    "            true_neg += 1\n",
    "    elif normal_result[i] != normal_result[i]:\n",
    "        if normal_result[i] == 1:\n",
    "            false_neg += 1\n",
    "        else:\n",
    "            false_pos += 1\n",
    "print(\"True pos: {}\\nTrue neg: {}\\nFalse pos: {}\\nFalse neg: {}\".format(true_pos, true_neg, false_pos, false_neg))"
   ]
  },
  {
   "cell_type": "code",
   "execution_count": 30,
   "metadata": {},
   "outputs": [
    {
     "data": {
      "text/plain": [
       "1.0"
      ]
     },
     "execution_count": 30,
     "metadata": {},
     "output_type": "execute_result"
    }
   ],
   "source": [
    "# Matthews coefficient 𝑀𝐶𝐶=(𝑇𝑃×𝑇𝑁−𝐹𝑃×𝐹𝑁)/√((𝑇𝑃+𝐹𝑃)(𝑇𝑃+𝐹𝑁)(𝑇𝑁+𝐹𝑃)(𝑇𝑁+𝐹𝑁) )\n",
    "\n",
    "mcc = (true_pos*true_neg)/ \\\n",
    "    np.sqrt((true_pos + false_pos)*(true_pos+false_neg)*(true_neg+false_pos)*(true_neg+false_neg))\n",
    "\n",
    "mcc"
   ]
  },
  {
   "cell_type": "markdown",
   "metadata": {},
   "source": [
    "MCC is 1, which is highly effective. Visual check of the fact that there were no false results is enough to verify.\n",
    "K_means algorithm, in contrast:"
   ]
  },
  {
   "cell_type": "code",
   "execution_count": 31,
   "metadata": {},
   "outputs": [
    {
     "name": "stdout",
     "output_type": "stream",
     "text": [
      "True pos: 5\n",
      "True neg: 4\n",
      "False pos: 1\n",
      "False neg: 0\n"
     ]
    }
   ],
   "source": [
    "from sklearn.cluster import KMeans\n",
    "import numpy as np\n",
    "\n",
    "data=np.array([[8,22,62],\n",
    "[15,51,85],\n",
    "[9,44,121],\n",
    "[8,51,136],\n",
    "[8,20,93],\n",
    "[15,64,124],\n",
    "[14,56,101],\n",
    "[5,10,80],\n",
    "[5,18,73],\n",
    "[9,26,79]])\n",
    "\n",
    "kmeans = KMeans(n_clusters=2, random_state=0).fit(data)\n",
    "kmeans_result = kmeans.labels_\n",
    "normal_result = np.array([1,0,0,0,1,0,0,1,1,1])\n",
    "true_pos = 0\n",
    "true_neg = 0\n",
    "false_pos = 0\n",
    "false_neg = 0\n",
    "\n",
    "for i in range(10):\n",
    "    if normal_result[i] == kmeans_result[i]:\n",
    "        if normal_result[i] == 1:\n",
    "            true_pos += 1\n",
    "        else:\n",
    "            true_neg += 1\n",
    "    elif normal_result[i] != kmeans_result[i]:\n",
    "        if normal_result[i] == 1:\n",
    "            false_neg += 1\n",
    "        else:\n",
    "            false_pos += 1\n",
    "print(\"True pos: {}\\nTrue neg: {}\\nFalse pos: {}\\nFalse neg: {}\".format(true_pos, true_neg, false_pos, false_neg))"
   ]
  },
  {
   "cell_type": "code",
   "execution_count": 32,
   "metadata": {},
   "outputs": [
    {
     "data": {
      "text/plain": [
       "0.816496580927726"
      ]
     },
     "execution_count": 32,
     "metadata": {},
     "output_type": "execute_result"
    }
   ],
   "source": [
    "mcc_KMeans = (true_pos*true_neg)/ \\\n",
    "    np.sqrt((true_pos + false_pos)*(true_pos+false_neg)*(true_neg+false_pos)*(true_neg+false_neg))\n",
    "\n",
    "mcc_KMeans"
   ]
  },
  {
   "cell_type": "markdown",
   "metadata": {},
   "source": [
    "Which is still very high, though for a small dataset."
   ]
  },
  {
   "cell_type": "markdown",
   "metadata": {},
   "source": [
    "Question 1 d. Adding features means that you need more data to fully fill the data set, otherwise your inputs for clustering will be almost negligible in their results (they will correspond with the individual pieces of data rather than grouping them). As the features increase, the amount of data to fill "
   ]
  }
 ],
 "metadata": {
  "kernelspec": {
   "display_name": "Python 3",
   "language": "python",
   "name": "python3"
  },
  "language_info": {
   "codemirror_mode": {
    "name": "ipython",
    "version": 3
   },
   "file_extension": ".py",
   "mimetype": "text/x-python",
   "name": "python",
   "nbconvert_exporter": "python",
   "pygments_lexer": "ipython3",
   "version": "3.7.6"
  }
 },
 "nbformat": 4,
 "nbformat_minor": 4
}
