{
 "cells": [
  {
   "cell_type": "code",
   "execution_count": 1,
   "metadata": {},
   "outputs": [],
   "source": [
    "### Question 1 \n",
    "import numpy as np\n",
    "### Import function for questions"
   ]
  },
  {
   "cell_type": "code",
   "execution_count": 2,
   "metadata": {},
   "outputs": [
    {
     "name": "stdout",
     "output_type": "stream",
     "text": [
      "[-12.   2.]\n"
     ]
    }
   ],
   "source": [
    "### Question 1: Solve 𝑥**2 − 24 = −10𝑥, Input equation as list\n",
    "equation = [1, 10, -24]\n",
    "### Run and print results of \"roots\" function\n",
    "print(np.roots(equation))"
   ]
  },
  {
   "cell_type": "code",
   "execution_count": 3,
   "metadata": {},
   "outputs": [
    {
     "name": "stdout",
     "output_type": "stream",
     "text": [
      "[0.32188758]\n"
     ]
    }
   ],
   "source": [
    "### Question 1: Solve 3𝑒**5𝑥 = 15, simplified e**5x = 5, simplified ln(e**5x) = ln(5) , simplified 5x - ln(5) = 0\n",
    "equation = [5, -np.log(5)]\n",
    "### Run and print results of \"roots\" function\n",
    "print(np.roots(equation))\n"
   ]
  },
  {
   "cell_type": "code",
   "execution_count": 4,
   "metadata": {},
   "outputs": [
    {
     "name": "stdout",
     "output_type": "stream",
     "text": [
      "51.7\n"
     ]
    }
   ],
   "source": [
    "### Question 2: On average, how many tweets are collected per day? Import tweets as a list.\n",
    "tweets = [10, 13, 100, 50, 47, 63, 59, 103, 5, 67]\n",
    "### find and print mean\n",
    "print(np.mean(tweets))"
   ]
  },
  {
   "cell_type": "code",
   "execution_count": 5,
   "metadata": {},
   "outputs": [
    {
     "name": "stdout",
     "output_type": "stream",
     "text": [
      "32.8969603459043\n"
     ]
    }
   ],
   "source": [
    "### Question 2: What is the standard deviation of the data set? Import tweets as a list.\n",
    "tweets = [10, 13, 100, 50, 47, 63, 59, 103, 5, 67]\n",
    "### find and print standard deviation\n",
    "print(np.std(tweets))"
   ]
  },
  {
   "cell_type": "code",
   "execution_count": 6,
   "metadata": {},
   "outputs": [
    {
     "name": "stdout",
     "output_type": "stream",
     "text": [
      "3.0\n"
     ]
    }
   ],
   "source": [
    "### Question 3: Pythagorean theorem: If c=5 and a=4, find b. a**2 + b**2 = c**2 simplified b**2 = c**2 - a**2\n",
    "b = np.sqrt(5**2 - 4**2)\n",
    "### print np.sqrt only provides positive value\n",
    "print ((np.sqrt(5**2 - 4**2)))"
   ]
  },
  {
   "cell_type": "code",
   "execution_count": 7,
   "metadata": {},
   "outputs": [],
   "source": [
    "### Question 4: Two data sets have the same mean and contain the same number of samples. \n",
    "### The standard deviation of set A is 3x the standard deviation of set B. What does this indicate?\n",
    "### Answer: the higher standard deviation indicates that set A is more variable than set B, with some inputs further from the mean."
   ]
  }
 ],
 "metadata": {
  "kernelspec": {
   "display_name": "Python 3",
   "language": "python",
   "name": "python3"
  },
  "language_info": {
   "codemirror_mode": {
    "name": "ipython",
    "version": 3
   },
   "file_extension": ".py",
   "mimetype": "text/x-python",
   "name": "python",
   "nbconvert_exporter": "python",
   "pygments_lexer": "ipython3",
   "version": "3.7.6"
  }
 },
 "nbformat": 4,
 "nbformat_minor": 4
}
