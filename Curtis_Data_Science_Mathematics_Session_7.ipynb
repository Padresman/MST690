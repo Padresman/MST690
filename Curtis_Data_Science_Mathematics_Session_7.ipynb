{
 "cells": [
  {
   "cell_type": "markdown",
   "metadata": {},
   "source": [
    "# Data Science Mathematics\n",
    "# Social Network Analysis\n",
    "# In-Class Activity"
   ]
  },
  {
   "cell_type": "markdown",
   "metadata": {},
   "source": [
    "Refer to the handout for a description of this activity.\n",
    "\n",
    "You will analyze the two ego graphs provided.  One is a known Russian bot, and the other is unknown.  Based on graph resonance, determine if the unknown graph is likely to be a military person.  You will also calculate the clustering coefficients for each graph, and enumerate the communities.\n",
    "\n",
    "First, import the relevant libraries."
   ]
  },
  {
   "cell_type": "markdown",
   "metadata": {},
   "source": [
    "# Question 1: What metric will allow you to quantify the similarity between graphs?\n",
    "\n",
    "Resonance will allow quantification of the similarity between graphs."
   ]
  },
  {
   "cell_type": "code",
   "execution_count": 1,
   "metadata": {},
   "outputs": [],
   "source": [
    "import networkx as nx\n",
    "import pickle\n",
    "import os\n",
    "import math\n",
    "import matplotlib.pyplot as plt\n",
    "import numpy as np"
   ]
  },
  {
   "cell_type": "markdown",
   "metadata": {},
   "source": [
    "The graph objects have been serialized.  Build a function to load them into memory using pickle."
   ]
  },
  {
   "cell_type": "code",
   "execution_count": 28,
   "metadata": {},
   "outputs": [],
   "source": [
    "#open pickle file # this is an attempt to fix reading files\n",
    "def open_pickle(pickle_path):\n",
    "    a=open(pickle_path,\"rb\").readlines() #read pickle file line by line\n",
    "    a=map(lambda x:x.replace(\"\\r\\n\",\"\\n\"),a) # replace \\r\\n with \\n\n",
    "    with open(pickle_path,\"wb\") as j: #write back to file in binary mode\n",
    "        for i in a:\n",
    "            j.write(i)         \n",
    "    with open(pickle_path, 'rb') as pickle_file:\n",
    "        object_name = pickle.load(pickle_file)\n",
    "    return object_name"
   ]
  },
  {
   "cell_type": "code",
   "execution_count": 29,
   "metadata": {},
   "outputs": [],
   "source": [
    "# remade function\n",
    "def open_pickle1(pickle_path):\n",
    "    with open(pickle_path, 'rb') as pickle_file:\n",
    "        object_name = pickle.load(pickle_file)\n",
    "    return object_name"
   ]
  },
  {
   "cell_type": "code",
   "execution_count": null,
   "metadata": {},
   "outputs": [],
   "source": []
  },
  {
   "cell_type": "markdown",
   "metadata": {},
   "source": [
    "You will have to calculate the resonance for all vertices in your ego graphs.  Define a function to calculate the betweenness centralities for all vertices."
   ]
  },
  {
   "cell_type": "code",
   "execution_count": 3,
   "metadata": {},
   "outputs": [],
   "source": [
    "#Get betweenness centrality\n",
    "def spectrum(G):\n",
    "    centrality = nx.betweenness_centrality(G)\n",
    "    return centrality"
   ]
  },
  {
   "cell_type": "markdown",
   "metadata": {},
   "source": [
    "Now, define a function for calculating graph resonance."
   ]
  },
  {
   "cell_type": "code",
   "execution_count": 4,
   "metadata": {},
   "outputs": [],
   "source": [
    "#Calculate graph resonance between graphs G1 and G2, with resonances S1 and S2, respectively\n",
    "def resonate(G1, S1, G2, S2):\n",
    "    res_divisor_1 = sum([a**2 for a in S1.values()])\n",
    "    res_divisor_2 = sum([a**2 for a in S2.values()])\n",
    "    res_divisor = math.sqrt(res_divisor_1*res_divisor_2)\n",
    "    if res_divisor == 0:\n",
    "        resonance = 0.0\n",
    "    else:\n",
    "        G1_nodes = G1.nodes()\n",
    "        G2_nodes = G2.nodes()\n",
    "        G_intersect = list(set(G1_nodes) & set(G2_nodes))\n",
    "        if len(G_intersect) != 0:\n",
    "            S1_list = [S1[node] for node in G_intersect]\n",
    "            S1_array = np.array(S1_list)\n",
    "            S2_list = [S2[node] for node in G_intersect]\n",
    "            S2_array = np.array(S2_list)\n",
    "            resonance_raw = np.dot(S1_array, S2_array)\n",
    "            resonance = resonance_raw/res_divisor\n",
    "        else:\n",
    "            resonance = 0.0\n",
    "    return resonance"
   ]
  },
  {
   "cell_type": "markdown",
   "metadata": {},
   "source": [
    "It is important to know the clustering coefficients for each graph.  You should define a function for that."
   ]
  },
  {
   "cell_type": "code",
   "execution_count": 5,
   "metadata": {},
   "outputs": [],
   "source": [
    "#Calculate clustering coefficient for graph G\n",
    "def clustering_coeff(G):\n",
    "    c = nx.average_clustering(G)\n",
    "    return c"
   ]
  },
  {
   "cell_type": "markdown",
   "metadata": {},
   "source": [
    "You will also want to enumerate the communities in each graph.  Let's define a function to use the Clauset-Newman-Moore algorithm for community detection."
   ]
  },
  {
   "cell_type": "code",
   "execution_count": 6,
   "metadata": {},
   "outputs": [],
   "source": [
    "#Community detection\n",
    "def get_communities(G):\n",
    "    from networkx.algorithms.community import greedy_modularity_communities\n",
    "    communities = list(greedy_modularity_communities(G))\n",
    "    return communities"
   ]
  },
  {
   "cell_type": "markdown",
   "metadata": {},
   "source": [
    "Now that you've defined all your functions, let's import the graphs.  Specify the absolute paths of your ego graphs."
   ]
  },
  {
   "cell_type": "code",
   "execution_count": 34,
   "metadata": {},
   "outputs": [],
   "source": [
    "#Note that you have to specify the absolute paths yourself for the graphs associated with this exercise\n",
    "#Here is an example:\n",
    "#r'C:\\Directory1\\Directory2\\File_Name.pkl'\n",
    "\n",
    "known_bot_path = r'C:\\Users\\cjcur\\OneDrive\\Documents\\Programming\\mathematics\\Test\\known_bot2_Session7.pkl'\n",
    "unknown_path_1 = r'C:\\Users\\cjcur\\OneDrive\\Documents\\Programming\\mathematics\\Test\\Unknown_1_Session7.pkl'"
   ]
  },
  {
   "cell_type": "markdown",
   "metadata": {},
   "source": [
    "Now let's load each graph."
   ]
  },
  {
   "cell_type": "code",
   "execution_count": 35,
   "metadata": {},
   "outputs": [],
   "source": [
    "known_bot = open_pickle1(known_bot_path)\n",
    "unknown_1 = open_pickle1(unknown_path_1)"
   ]
  },
  {
   "cell_type": "markdown",
   "metadata": {},
   "source": [
    "Let's explore our graphs a bit.  How many nodes (vertices) are in each one?  What does this mean?"
   ]
  },
  {
   "cell_type": "code",
   "execution_count": 36,
   "metadata": {},
   "outputs": [
    {
     "name": "stdout",
     "output_type": "stream",
     "text": [
      "Vertices in Known Bot: 543\n",
      "Vertices in Unknown 1: 459\n"
     ]
    }
   ],
   "source": [
    "print('Vertices in Known Bot: {}'.format(len(known_bot.nodes())))\n",
    "print('Vertices in Unknown 1: {}'.format(len(unknown_1.nodes())))"
   ]
  },
  {
   "cell_type": "markdown",
   "metadata": {},
   "source": [
    "Let's also plot slices of each graph.  But first, we need to induce subgraphs from each graph because there are probably too many vertices to make a good plot."
   ]
  },
  {
   "cell_type": "code",
   "execution_count": 37,
   "metadata": {},
   "outputs": [],
   "source": [
    "#Get slices (subsets) of each edge set.\n",
    "known_bot_end = int(0.1*len(known_bot.edges()))\n",
    "unknown_1_end = int(0.1*len(unknown_1.edges()))\n",
    "known_bot_edges_slice = list(known_bot.edges())[0:known_bot_end]\n",
    "unknown_1_edges_slice = list(unknown_1.edges())[0:unknown_1_end]\n",
    "\n",
    "#Induce subgraphs\n",
    "KB_sub = known_bot.edge_subgraph(known_bot_edges_slice)\n",
    "U1_sub = unknown_1.edge_subgraph(unknown_1_edges_slice)"
   ]
  },
  {
   "cell_type": "markdown",
   "metadata": {},
   "source": [
    "The known bot graph is quite large and will take a while to draw, so we will skip that one for now."
   ]
  },
  {
   "cell_type": "markdown",
   "metadata": {},
   "source": [
    "Let's plot the unknown 1 graph."
   ]
  },
  {
   "cell_type": "code",
   "execution_count": 39,
   "metadata": {},
   "outputs": [
    {
     "data": {
      "image/png": "[encoded data removed]",
      "text/plain": [
       "<Figure size 432x288 with 1 Axes>"
      ]
     },
     "metadata": {},
     "output_type": "display_data"
    }
   ],
   "source": [
    "nx.draw(U1_sub)\n",
    "plt.show()"
   ]
  },
  {
   "cell_type": "markdown",
   "metadata": {},
   "source": [
    "Now plot the known bot graph in the line below:"
   ]
  },
  {
   "cell_type": "code",
   "execution_count": 40,
   "metadata": {},
   "outputs": [
    {
     "data": {
      "image/png": "[encoded data removed]",
      "text/plain": [
       "<Figure size 432x288 with 1 Axes>"
      ]
     },
     "metadata": {},
     "output_type": "display_data"
    }
   ],
   "source": [
    "nx.draw(KB_sub)\n",
    "plt.show()"
   ]
  },
  {
   "cell_type": "markdown",
   "metadata": {},
   "source": [
    "Now that you've loaded the graphs into memory, you need to calculate the centralities for each vertex in each graph."
   ]
  },
  {
   "cell_type": "code",
   "execution_count": 41,
   "metadata": {},
   "outputs": [],
   "source": [
    "known_bot_centralities = spectrum(known_bot)\n",
    "unknown_1_centralities = spectrum(unknown_1)"
   ]
  },
  {
   "cell_type": "markdown",
   "metadata": {},
   "source": [
    "Now calculate the clustering coefficients for each graph."
   ]
  },
  {
   "cell_type": "code",
   "execution_count": 42,
   "metadata": {},
   "outputs": [],
   "source": [
    "known_bot_cluster = clustering_coeff(known_bot)\n",
    "unknown_1_cluster = clustering_coeff(unknown_1)"
   ]
  },
  {
   "cell_type": "markdown",
   "metadata": {},
   "source": [
    "Let's analyze the clustering coefficients.  How similar are they?  What do they tell you about each graph?"
   ]
  },
  {
   "cell_type": "code",
   "execution_count": 44,
   "metadata": {},
   "outputs": [
    {
     "name": "stdout",
     "output_type": "stream",
     "text": [
      "Known Bot Clustering Coefficient: 0.20371874907173476\n",
      "Unknown 1 Clustering Coefficient: 0.07937480027928205\n"
     ]
    }
   ],
   "source": [
    "print('Known Bot Clustering Coefficient: {}'.format(known_bot_cluster))\n",
    "print('Unknown 1 Clustering Coefficient: {}'.format(unknown_1_cluster))"
   ]
  },
  {
   "cell_type": "markdown",
   "metadata": {},
   "source": [
    "# Known Bot has a higher transitivity compared to Unknown 1, but both are low, meaning that the nodes are less transient and more directed (fewer vertices connected to each other in groups like a clique)."
   ]
  },
  {
   "cell_type": "markdown",
   "metadata": {},
   "source": [
    "Now we need to calculate the resonance between the graphs.  We have already calculated the betweenness centralites for each, which is required for the resonance calculation.  What does the resonance tell us?"
   ]
  },
  {
   "cell_type": "code",
   "execution_count": 45,
   "metadata": {},
   "outputs": [],
   "source": [
    "#Resonance between Known Bot and Unknown 1\n",
    "K_1_res = resonate(known_bot, known_bot_centralities, unknown_1, unknown_1_centralities)"
   ]
  },
  {
   "cell_type": "markdown",
   "metadata": {},
   "source": [
    "Now let's examine our resonance output."
   ]
  },
  {
   "cell_type": "code",
   "execution_count": 47,
   "metadata": {},
   "outputs": [
    {
     "name": "stdout",
     "output_type": "stream",
     "text": [
      "Resonance between Known Bot and Unknown 1: 0.9128869072090952\n"
     ]
    }
   ],
   "source": [
    "print('Resonance between Known Bot and Unknown 1: {}'.format(K_1_res))"
   ]
  },
  {
   "cell_type": "markdown",
   "metadata": {},
   "source": [
    "Now let's explore the communities in each graph."
   ]
  },
  {
   "cell_type": "code",
   "execution_count": 48,
   "metadata": {},
   "outputs": [],
   "source": [
    "Known_Bot_Communities = get_communities(known_bot)\n",
    "Unknown_1_Communities = get_communities(unknown_1)"
   ]
  },
  {
   "cell_type": "markdown",
   "metadata": {},
   "source": [
    "Now, let's examine our communities output."
   ]
  },
  {
   "cell_type": "code",
   "execution_count": 49,
   "metadata": {},
   "outputs": [
    {
     "name": "stdout",
     "output_type": "stream",
     "text": [
      "Known Bot Communities\n",
      "240\n",
      "143\n",
      "75\n",
      "46\n",
      "39\n",
      "=====================\n",
      "Unknown 1 Communities\n",
      "303\n",
      "75\n",
      "43\n",
      "38\n"
     ]
    }
   ],
   "source": [
    "print('Known Bot Communities')\n",
    "for community in Known_Bot_Communities:\n",
    "    print(len(community))\n",
    "print('=====================')\n",
    "\n",
    "print('Unknown 1 Communities')\n",
    "for community in Unknown_1_Communities:\n",
    "    print(len(community))"
   ]
  },
  {
   "cell_type": "markdown",
   "metadata": {},
   "source": [
    "Use your output to answer the questions on the activity handout."
   ]
  },
  {
   "cell_type": "markdown",
   "metadata": {},
   "source": [
    "# One of the ego networks is from a known bot, and the other two are unknown.  Based on your analysis, which of the unknown networks is most likely to be a bot?\n",
    "\n",
    "We only had two networks given, but the high resonance between the botnet indicates that it is likely a bot.\n",
    "\n",
    "# d.\tEgo graphs are constructed from social connections, in this case, Twitter followers.  Do you think your hypothesis is a reasonable one, i.e., is Twitter follower status a sufficient indicator of a true connection?  Why or why not, or does it depend on other factors?  Are there other methods of generating graph edges that might better represent a possible relationship?  Explain your reasoning.\n",
    "\n",
    "Twitter follower status is not in itself a sufficient indicator of a true connection, especially for a user; however, when determining a bot, especially when they make many accounts for the sake of influencing over a large scale, Twitter followers and the status would be a valuable way to distinguish them from other units. Other ways to generate graph edges would be having multiple factor correlation, such as mapping people who have Twitter and Facebook or similar social media connections. This method would ensure more likely correlation of a possible relationship, but also could have the opposite issue of losing too much data from users who use not observed networks or means of communication (such as by phone, if not seen)."
   ]
  },
  {
   "cell_type": "markdown",
   "metadata": {},
   "source": [
    "***Now save your output.  Go to File -> Print Preview and save your final output as a PDF.  Turn in to your Instructor, along with any additional sheets."
   ]
  }
 ],
 "metadata": {
  "kernelspec": {
   "display_name": "Python 3",
   "language": "python",
   "name": "python3"
  },
  "language_info": {
   "codemirror_mode": {
    "name": "ipython",
    "version": 3
   },
   "file_extension": ".py",
   "mimetype": "text/x-python",
   "name": "python",
   "nbconvert_exporter": "python",
   "pygments_lexer": "ipython3",
   "version": "3.7.6"
  }
 },
 "nbformat": 4,
 "nbformat_minor": 2
}
